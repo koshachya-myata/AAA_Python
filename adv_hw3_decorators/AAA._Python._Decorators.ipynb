{
 "cells": [
  {
   "cell_type": "markdown",
   "id": "11a22a53",
   "metadata": {},
   "source": [
    "# Дектораторы\n",
    "\n",
    "В этом домашнем задании мы напишем собственные дектораторы, которые будут менять системные объекты. Но для начала мы с вами познакомимся с функцией `write`."
   ]
  },
  {
   "cell_type": "code",
   "execution_count": 1,
   "id": "2c2dc3b0",
   "metadata": {},
   "outputs": [
    {
     "name": "stdout",
     "output_type": "stream",
     "text": [
      "Hello, my friend!"
     ]
    }
   ],
   "source": [
    "import sys\n",
    "from typing import Callable\n",
    "\n",
    "sys.stdout.write('Hello, my friend!')\n",
    "original_write = sys.stdout.write"
   ]
  },
  {
   "cell_type": "markdown",
   "id": "23b94491",
   "metadata": {},
   "source": [
    "## Задача 1"
   ]
  },
  {
   "cell_type": "markdown",
   "id": "1eb22a2f",
   "metadata": {},
   "source": [
    "Для начала, давайте подменим метод `write` у объекта `sys.stdin` на такую функцию, которая перед каждым вызовом оригинальной функции записи данных в `stdout` допечатывает к тексту текущую метку времени."
   ]
  },
  {
   "cell_type": "code",
   "execution_count": 2,
   "id": "732073b9",
   "metadata": {},
   "outputs": [],
   "source": [
    "from datetime import datetime\n",
    "\n",
    "# хочу сохранить, с какими аргументами вызывается write\n",
    "# далее будет видно зачем это\n",
    "def save_call_history(history: list):\n",
    "    \"\"\"\n",
    "    Decorator to save the called arguments history. (not kwargs).\n",
    "    \n",
    "    Args:\n",
    "        history (list): variable where we want to save the history.\n",
    "    \"\"\"\n",
    "    def decorator(f: Callable):\n",
    "        def wrapper(*args, **kwargs):\n",
    "            history.append((args, kwargs))\n",
    "            return f(*args, **kwargs)\n",
    "        return wrapper\n",
    "    return decorator\n",
    "\n",
    "call_history = []\n",
    "\n",
    "@save_call_history(call_history)\n",
    "def my_write(string_text: str):\n",
    "    \"\"\"\n",
    "    Writes string_text prefixed with the date the function was called.\n",
    "    \n",
    "    Template: '[%Y-%m-%d %H:%M:%S]: {string_text}'\n",
    "    \"\"\"\n",
    "    str_with_date = datetime.now().strftime('[%Y-%m-%d %H:%M:%S]: ') \\\n",
    "        + string_text\n",
    "    #  В счет беру также записанные байты от добавления даты.\n",
    "    #  Из условия неясно, нужно это делать или нет,\n",
    "    #  Зависит от нашей цели.\n",
    "    return original_write(str_with_date)\n",
    "\n",
    "sys.stdout.write = my_write"
   ]
  },
  {
   "cell_type": "code",
   "execution_count": 3,
   "id": "d8f650f6",
   "metadata": {},
   "outputs": [
    {
     "name": "stdout",
     "output_type": "stream",
     "text": [
      "[2023-12-14 04:10:45]: 1, 2, 3[2023-12-14 04:10:45]: \n"
     ]
    }
   ],
   "source": [
    "print('1, 2, 3')"
   ]
  },
  {
   "cell_type": "markdown",
   "id": "c04c9e4a",
   "metadata": {},
   "source": [
    "Дата печатаеся два раза. Вот почему:"
   ]
  },
  {
   "cell_type": "code",
   "execution_count": 4,
   "id": "ffaa0aed",
   "metadata": {},
   "outputs": [
    {
     "data": {
      "text/plain": [
       "[(('1, 2, 3',), {}), (('\\n',), {})]"
      ]
     },
     "execution_count": 4,
     "metadata": {},
     "output_type": "execute_result"
    }
   ],
   "source": [
    "call_history"
   ]
  },
  {
   "cell_type": "markdown",
   "id": "930af43d",
   "metadata": {},
   "source": [
    "Видно, что когда мы вызываем `print`, то write вызывается два раза. С контентом и с `end`. В прошлый раз он вызвался со стандартным `end='\\n'`.\n",
    "\n",
    "Считаю, что это то поведение, которое нужно. [Тут](https://github.com/python/cpython/blob/v3.11.2/Python/bltinmodule.c#L1986), в реализации CPython, видно, что  `PyFile_WriteObject` и `PyFile_WriteString` (который на самом деле внутри вызывает WriteObject) будут вызываться для аргументов, сепараторов и end по отдельности, а эти функции внутри вызывают сишный write. То есть, важно, что не создается одна общая строка, которая выводится, а вызывается write для отдельных компонентов."
   ]
  },
  {
   "cell_type": "code",
   "execution_count": 5,
   "id": "37617332",
   "metadata": {},
   "outputs": [],
   "source": [
    "sys.stdout.write = original_write"
   ]
  },
  {
   "cell_type": "markdown",
   "id": "903fcee1",
   "metadata": {},
   "source": [
    "## Задача 2\n",
    "\n",
    "Упакуйте только что написанный код в декторатор. Весь вывод фукнции должен быть помечен временными метками так, как видно выше."
   ]
  },
  {
   "cell_type": "code",
   "execution_count": 6,
   "id": "5804423b",
   "metadata": {},
   "outputs": [],
   "source": [
    "def timed_output(f: Callable) -> Callable:\n",
    "    # В нашем случае, они уже как бы объявлены, но я\n",
    "    # для более общего вида тут объявляю еще раз.\n",
    "    original_write = sys.stdout.write\n",
    "    # Я тут добвил проверку на то, что после strip()\n",
    "    # в строке что-то остается. Это только для красивого вида.\n",
    "    my_write = lambda string_text: original_write(\n",
    "        datetime.now().strftime('[%Y-%m-%d %H:%M:%S]: ') \\\n",
    "            + string_text) if string_text.strip() != '' else 0\n",
    "\n",
    "    def wrapper(*args, **kwargs):\n",
    "        sys.stdout.write = my_write\n",
    "        rt = f(*args, **kwargs)\n",
    "        sys.stdout.write = original_write\n",
    "        return rt\n",
    "    return wrapper"
   ]
  },
  {
   "cell_type": "code",
   "execution_count": 7,
   "id": "f43373a5",
   "metadata": {},
   "outputs": [],
   "source": [
    "h = []\n",
    "@timed_output\n",
    "def print_greeting(name):\n",
    "    print(f'Hello, {name}!')"
   ]
  },
  {
   "cell_type": "code",
   "execution_count": 8,
   "id": "6a2283db",
   "metadata": {},
   "outputs": [
    {
     "name": "stdout",
     "output_type": "stream",
     "text": [
      "[2023-12-14 04:10:52]: Hello, Nikita!"
     ]
    }
   ],
   "source": [
    "print_greeting(\"Nikita\")"
   ]
  },
  {
   "cell_type": "markdown",
   "id": "37fad5fd",
   "metadata": {},
   "source": [
    "Вывод должен быть похож на следующий:\n",
    "\n",
    "```\n",
    "[2021-12-05 12:00:00]: Hello, Nikita!\n",
    "```"
   ]
  },
  {
   "cell_type": "markdown",
   "id": "8a3aee6d",
   "metadata": {},
   "source": [
    "## Задача 3\n",
    "\n",
    "Напишите декторатор, который будет перенаправлять вывод функции в файл. \n",
    "\n",
    "Подсказка: вы можете заменить объект sys.stdout каким-нибудь другим объектом."
   ]
  },
  {
   "cell_type": "code",
   "execution_count": 9,
   "id": "de733186",
   "metadata": {},
   "outputs": [],
   "source": [
    "def redirect_output(filepath: str, mode='a'):\n",
    "    \"\"\"Redirect output of write to a file (filepath) openned with mode.\"\"\"\n",
    "    original_write = sys.stdout\n",
    "    def decorator(f: Callable):\n",
    "        def wrapper(*args, **kwargs):\n",
    "            new_write = open(filepath, mode)\n",
    "            sys.stdout = new_write\n",
    "            rt = f(*args, **kwargs)\n",
    "            new_write.close()\n",
    "            sys.stdout = original_write\n",
    "            return rt\n",
    "        return wrapper\n",
    "    return decorator"
   ]
  },
  {
   "cell_type": "code",
   "execution_count": 10,
   "id": "37e01742",
   "metadata": {},
   "outputs": [],
   "source": [
    "@redirect_output('./function_output.txt')\n",
    "def calculate():\n",
    "    for power in range(1, 5):\n",
    "        for num in range(1, 20):\n",
    "            print(num ** power, end=' ')\n",
    "        print()"
   ]
  },
  {
   "cell_type": "code",
   "execution_count": 11,
   "id": "7c686804",
   "metadata": {},
   "outputs": [
    {
     "name": "stdout",
     "output_type": "stream",
     "text": [
      "cat: function_output.txt: No such file or directory\r\n"
     ]
    }
   ],
   "source": [
    "%cat function_output.txt"
   ]
  },
  {
   "cell_type": "code",
   "execution_count": 12,
   "id": "e892f124",
   "metadata": {},
   "outputs": [],
   "source": [
    "calculate()"
   ]
  },
  {
   "cell_type": "code",
   "execution_count": 13,
   "id": "ac06c89e",
   "metadata": {},
   "outputs": [
    {
     "name": "stdout",
     "output_type": "stream",
     "text": [
      "1 2 3 4 5 6 7 8 9 10 11 12 13 14 15 16 17 18 19 \r\n",
      "1 4 9 16 25 36 49 64 81 100 121 144 169 196 225 256 289 324 361 \r\n",
      "1 8 27 64 125 216 343 512 729 1000 1331 1728 2197 2744 3375 4096 4913 5832 6859 \r\n",
      "1 16 81 256 625 1296 2401 4096 6561 10000 14641 20736 28561 38416 50625 65536 83521 104976 130321 \r\n"
     ]
    }
   ],
   "source": [
    "%cat function_output.txt"
   ]
  },
  {
   "cell_type": "code",
   "execution_count": null,
   "id": "fdb7ea79",
   "metadata": {},
   "outputs": [],
   "source": []
  }
 ],
 "metadata": {
  "kernelspec": {
   "display_name": "Python 3 (ipykernel)",
   "language": "python",
   "name": "python3"
  },
  "language_info": {
   "codemirror_mode": {
    "name": "ipython",
    "version": 3
   },
   "file_extension": ".py",
   "mimetype": "text/x-python",
   "name": "python",
   "nbconvert_exporter": "python",
   "pygments_lexer": "ipython3",
   "version": "3.9.16"
  }
 },
 "nbformat": 4,
 "nbformat_minor": 5
}
